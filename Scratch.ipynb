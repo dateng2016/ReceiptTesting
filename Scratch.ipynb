{
 "cells": [
  {
   "cell_type": "markdown",
   "id": "0dcd4a84",
   "metadata": {},
   "source": [
    "## APP PASSWORD"
   ]
  },
  {
   "cell_type": "code",
   "execution_count": 1,
   "metadata": {},
   "outputs": [],
   "source": [
    "APP_PASSWORD = 'hksx zxjb wztw ncvp'"
   ]
  },
  {
   "cell_type": "markdown",
   "id": "cb48a647",
   "metadata": {},
   "source": [
    "## Ebay"
   ]
  },
  {
   "cell_type": "code",
   "execution_count": 5,
   "id": "4e66a160",
   "metadata": {},
   "outputs": [
    {
     "name": "stdout",
     "output_type": "stream",
     "text": [
      "Sender: eBay <ebay@ebay.com>\n",
      "Subject: Da, your order is confirmed\n"
     ]
    },
    {
     "data": {
      "text/plain": [
       "('BYE', [b'LOGOUT Requested'])"
      ]
     },
     "execution_count": 5,
     "metadata": {},
     "output_type": "execute_result"
    }
   ],
   "source": [
    "import imaplib\n",
    "import email\n",
    "from email.header import decode_header\n",
    "\n",
    "# IMAP server settings for Gmail\n",
    "IMAP_SERVER = 'imap.gmail.com'\n",
    "USERNAME = 'dateng2016@gmail.com'\n",
    "PASSWORD = APP_PASSWORD\n",
    "\n",
    "# Connect to the IMAP server\n",
    "mail = imaplib.IMAP4_SSL(IMAP_SERVER)\n",
    "mail.login(USERNAME, PASSWORD)\n",
    "\n",
    "# Select the mailbox (e.g., 'INBOX')\n",
    "mail.select('INBOX')\n",
    "\n",
    "# Search for emails based on specific criteria (e.g., subject, sender, date)\n",
    "search_criteria = '(SUBJECT \"Da, your order is confirmed\")'\n",
    "result, data = mail.search(None, search_criteria)\n",
    "\n",
    "# Get the email IDs\n",
    "email_ids = data[0].split()\n",
    "\n",
    "# Retrieve the most recent email (assuming the search returns emails sorted by date)\n",
    "latest_email_id = email_ids[-1]\n",
    "\n",
    "# Fetch the email data (headers and body)\n",
    "result, email_data = mail.fetch(latest_email_id, '(RFC822)')\n",
    "raw_email = email_data[0][1]\n",
    "\n",
    "# Parse the raw email data\n",
    "msg = email.message_from_bytes(raw_email)\n",
    "\n",
    "# Extract email information (e.g., sender, subject)\n",
    "sender = msg['From']\n",
    "subject = decode_header(msg['Subject'])[0][0]\n",
    "\n",
    "# Print email information\n",
    "print(\"Sender:\", sender)\n",
    "print(\"Subject:\", subject)\n",
    "\n",
    "# You can access email body and attachments similarly\n",
    "# body = msg.get_payload()\n",
    "\n",
    "# Function to get the email body\n",
    "def get_email_body(msg):\n",
    "    if msg.is_multipart():\n",
    "        # If the message is multipart, iterate over each part\n",
    "        for part in msg.walk():\n",
    "            content_type = part.get_content_type()\n",
    "            if content_type == \"text/plain\" or content_type == \"text/html\":\n",
    "                # If the part is plain text or HTML, return its payload\n",
    "                return part.get_payload(decode=True).decode()\n",
    "    else:\n",
    "        # If the message is not multipart, return its payload\n",
    "        return msg.get_payload(decode=True).decode()\n",
    "\n",
    "# Example usage:\n",
    "email_body = get_email_body(msg)\n",
    "# print(\"Email Body:\", email_body)\n",
    "\n",
    "\n",
    "# Close the connection\n",
    "mail.close()\n",
    "mail.logout()"
   ]
  },
  {
   "cell_type": "code",
   "execution_count": 4,
   "id": "a6b34034",
   "metadata": {},
   "outputs": [
    {
     "name": "stdout",
     "output_type": "stream",
     "text": [
      "Merchant name: eBay\n",
      "\n",
      "Item:  \n",
      "3.5mm Jack To 2 Rca Stereo Audio Cable Adapter 6ft 10...\n",
      "\n",
      "Price:  \n",
      "$5.07\n",
      "\n",
      "Date:  Tue, 13 Feb 2024 17:33:11 -0700\n"
     ]
    }
   ],
   "source": [
    "from bs4 import BeautifulSoup\n",
    "soup = BeautifulSoup(email_body, 'html.parser')\n",
    "\n",
    "name_tag = soup.find('a', class_='title')\n",
    "price_tags = soup.find_all('td', class_=\"item\")\n",
    "print(f'Merchant name: {sender.split(\" \")[0]}')\n",
    "print()\n",
    "print('Item: ', name_tag.string)\n",
    "print('Price: ',price_tags[-1].string)\n",
    "print('Date: ', msg['Date'])"
   ]
  },
  {
   "cell_type": "markdown",
   "id": "1930592b",
   "metadata": {},
   "source": [
    "## Gmail API\n"
   ]
  },
  {
   "cell_type": "code",
   "execution_count": 28,
   "id": "706e2a56",
   "metadata": {},
   "outputs": [
    {
     "name": "stdout",
     "output_type": "stream",
     "text": [
      "todo:11400:eBayStarship\n",
      "Saving HTML to ReceiptFolder/index1.html\n",
      "todo:11400:eBayStarship\n",
      "Saving HTML to ReceiptFolder/index2.html\n",
      "2\n"
     ]
    },
    {
     "ename": "TypeError",
     "evalue": "initial_value must be str or None, not list",
     "output_type": "error",
     "traceback": [
      "\u001b[0;31m---------------------------------------------------------------------------\u001b[0m",
      "\u001b[0;31mTypeError\u001b[0m                                 Traceback (most recent call last)",
      "Cell \u001b[0;32mIn[28], line 158\u001b[0m\n\u001b[1;32m    156\u001b[0m     \u001b[38;5;28mprint\u001b[39m(\u001b[38;5;124m'\u001b[39m\u001b[38;5;124mNo messages found matching the search criteria.\u001b[39m\u001b[38;5;124m'\u001b[39m)\n\u001b[1;32m    157\u001b[0m \u001b[38;5;28mprint\u001b[39m(\u001b[38;5;28mlen\u001b[39m(html_list))\n\u001b[0;32m--> 158\u001b[0m \u001b[38;5;28mprint\u001b[39m(\u001b[38;5;28mtype\u001b[39m(\u001b[43memail\u001b[49m\u001b[38;5;241;43m.\u001b[39;49m\u001b[43mmessage_from_string\u001b[49m\u001b[43m(\u001b[49m\u001b[43mhtml_list\u001b[49m\u001b[43m)\u001b[49m))\n",
      "File \u001b[0;32m~/opt/anaconda3/lib/python3.9/email/__init__.py:38\u001b[0m, in \u001b[0;36mmessage_from_string\u001b[0;34m(s, *args, **kws)\u001b[0m\n\u001b[1;32m     33\u001b[0m \u001b[38;5;250m\u001b[39m\u001b[38;5;124;03m\"\"\"Parse a string into a Message object model.\u001b[39;00m\n\u001b[1;32m     34\u001b[0m \n\u001b[1;32m     35\u001b[0m \u001b[38;5;124;03mOptional _class and strict are passed to the Parser constructor.\u001b[39;00m\n\u001b[1;32m     36\u001b[0m \u001b[38;5;124;03m\"\"\"\u001b[39;00m\n\u001b[1;32m     37\u001b[0m \u001b[38;5;28;01mfrom\u001b[39;00m \u001b[38;5;21;01memail\u001b[39;00m\u001b[38;5;21;01m.\u001b[39;00m\u001b[38;5;21;01mparser\u001b[39;00m \u001b[38;5;28;01mimport\u001b[39;00m Parser\n\u001b[0;32m---> 38\u001b[0m \u001b[38;5;28;01mreturn\u001b[39;00m \u001b[43mParser\u001b[49m\u001b[43m(\u001b[49m\u001b[38;5;241;43m*\u001b[39;49m\u001b[43margs\u001b[49m\u001b[43m,\u001b[49m\u001b[43m \u001b[49m\u001b[38;5;241;43m*\u001b[39;49m\u001b[38;5;241;43m*\u001b[39;49m\u001b[43mkws\u001b[49m\u001b[43m)\u001b[49m\u001b[38;5;241;43m.\u001b[39;49m\u001b[43mparsestr\u001b[49m\u001b[43m(\u001b[49m\u001b[43ms\u001b[49m\u001b[43m)\u001b[49m\n",
      "File \u001b[0;32m~/opt/anaconda3/lib/python3.9/email/parser.py:67\u001b[0m, in \u001b[0;36mParser.parsestr\u001b[0;34m(self, text, headersonly)\u001b[0m\n\u001b[1;32m     59\u001b[0m \u001b[38;5;28;01mdef\u001b[39;00m \u001b[38;5;21mparsestr\u001b[39m(\u001b[38;5;28mself\u001b[39m, text, headersonly\u001b[38;5;241m=\u001b[39m\u001b[38;5;28;01mFalse\u001b[39;00m):\n\u001b[1;32m     60\u001b[0m \u001b[38;5;250m    \u001b[39m\u001b[38;5;124;03m\"\"\"Create a message structure from a string.\u001b[39;00m\n\u001b[1;32m     61\u001b[0m \n\u001b[1;32m     62\u001b[0m \u001b[38;5;124;03m    Returns the root of the message structure.  Optional headersonly is a\u001b[39;00m\n\u001b[0;32m   (...)\u001b[0m\n\u001b[1;32m     65\u001b[0m \u001b[38;5;124;03m    the file.\u001b[39;00m\n\u001b[1;32m     66\u001b[0m \u001b[38;5;124;03m    \"\"\"\u001b[39;00m\n\u001b[0;32m---> 67\u001b[0m     \u001b[38;5;28;01mreturn\u001b[39;00m \u001b[38;5;28mself\u001b[39m\u001b[38;5;241m.\u001b[39mparse(\u001b[43mStringIO\u001b[49m\u001b[43m(\u001b[49m\u001b[43mtext\u001b[49m\u001b[43m)\u001b[49m, headersonly\u001b[38;5;241m=\u001b[39mheadersonly)\n",
      "\u001b[0;31mTypeError\u001b[0m: initial_value must be str or None, not list"
     ]
    }
   ],
   "source": [
    "import os.path\n",
    "import os\n",
    "import pickle\n",
    "from bs4 import BeautifulSoup\n",
    "\n",
    "# for encoding/decoding messages in base64\n",
    "from base64 import urlsafe_b64decode, urlsafe_b64encode\n",
    "# for dealing with attachement MIME types\n",
    "import email\n",
    "from email.mime.text import MIMEText\n",
    "from email.mime.multipart import MIMEMultipart\n",
    "from email.mime.image import MIMEImage\n",
    "from email.mime.audio import MIMEAudio\n",
    "from email.mime.base import MIMEBase\n",
    "from mimetypes import guess_type as guess_mime_type\n",
    "\n",
    "from google.auth.transport.requests import Request\n",
    "from google.oauth2.credentials import Credentials\n",
    "from google_auth_oauthlib.flow import InstalledAppFlow\n",
    "from googleapiclient.discovery import build\n",
    "from googleapiclient.errors import HttpError\n",
    "\n",
    "# If modifying these scopes, delete the file token.json.\n",
    "SCOPES = [\"https://www.googleapis.com/auth/gmail.readonly\"]\n",
    "\n",
    "\n",
    "\n",
    "def start_service():\n",
    "    creds = None\n",
    "    # The file token.json stores the user's access and refresh tokens, and is\n",
    "    # created automatically when the authorization flow completes for the first\n",
    "    # time.\n",
    "    if os.path.exists(\"token.json\"):\n",
    "        creds = Credentials.from_authorized_user_file(\"token.json\", SCOPES)\n",
    "    # If there are no (valid) credentials available, let the user log in.\n",
    "    if not creds or not creds.valid:\n",
    "        if creds and creds.expired and creds.refresh_token:\n",
    "            creds.refresh(Request())\n",
    "        else:\n",
    "            flow = InstalledAppFlow.from_client_secrets_file(\n",
    "                \"credentials.json\", SCOPES\n",
    "            )\n",
    "            creds = flow.run_local_server(port=0)\n",
    "        # Save the credentials for the next run\n",
    "        with open(\"token.json\", \"w\") as token:\n",
    "            token.write(creds.to_json())\n",
    "\n",
    "    try:\n",
    "    # Call the Gmail API\n",
    "        service = build(\"gmail\", \"v1\", credentials=creds)\n",
    "        results = service.users().labels().list(userId=\"me\").execute()\n",
    "        labels = results.get(\"labels\", [])\n",
    "\n",
    "        if not labels:\n",
    "            print(\"No labels found.\")\n",
    "\n",
    "        # print(\"Labels:\")\n",
    "        for label in labels:\n",
    "        #   print(label[\"name\"])\n",
    "            pass\n",
    "        return service\n",
    "\n",
    "    except HttpError as error:\n",
    "    # TODO(developer) - Handle errors from gmail API.\n",
    "        print(f\"An error occurred: {error}\")\n",
    "\n",
    "\n",
    "def search_messages(service, query):\n",
    "    result = service.users().messages().list(userId='me',q=query).execute()\n",
    "    messages = [ ]\n",
    "    if 'messages' in result:\n",
    "        messages.extend(result['messages'])\n",
    "    while 'nextPageToken' in result:\n",
    "        page_token = result['nextPageToken']\n",
    "        result = service.users().messages().list(userId='me',q=query, pageToken=page_token).execute()\n",
    "        if 'messages' in result:\n",
    "            messages.extend(result['messages'])\n",
    "    return messages\n",
    "\n",
    "def parse_parts(service, parts, folder_name, result_list, file_count):\n",
    "    \"\"\"\n",
    "    Utility function that parses the content of an email partition\n",
    "    \"\"\"\n",
    "    if not os.path.exists(folder_name):\n",
    "        os.makedirs(folder_name)\n",
    "    if parts:\n",
    "        for part in parts:\n",
    "            filename = part.get(\"filename\")\n",
    "            mimeType = part.get(\"mimeType\")\n",
    "            body = part.get(\"body\")\n",
    "            data = body.get(\"data\")\n",
    "            file_size = body.get(\"size\")\n",
    "            part_headers = part.get(\"headers\")\n",
    "\n",
    "            binary_data = urlsafe_b64decode(data)\n",
    "            if part.get(\"parts\"):\n",
    "                # recursively call this function when we see that a part\n",
    "                # has parts inside\n",
    "                file_count[0] += 1\n",
    "                parse_parts(service, part.get(\"parts\"), folder_name, result_list, file_count)\n",
    "            if mimeType == \"text/plain\":\n",
    "                # if the email part is text plain\n",
    "                if data:\n",
    "                    text = binary_data.decode()\n",
    "                    print(text)\n",
    "            elif mimeType == \"text/html\":\n",
    "                # if the email part is an HTML content\n",
    "                # save the HTML file and optionally open it in the browser\n",
    "                if not filename:\n",
    "                    file_count[0] += 1\n",
    "                    filename = \"index\"+str(file_count[0])+\".html\"\n",
    "                filepath = os.path.join(folder_name, filename)\n",
    "                print(\"Saving HTML to\", filepath)\n",
    "                with open(filepath, \"wb\") as f:\n",
    "                    f.write(binary_data)\n",
    "                # print(binary_data.decode())\n",
    "                result_list.append(binary_data.decode())\n",
    "\n",
    "        \n",
    "def parse_ebay():\n",
    "    merchant_name = 'ebay'\n",
    "    \n",
    "\n",
    "\n",
    "\n",
    "\n",
    "if __name__ == \"__main__\":\n",
    "    service = start_service()\n",
    "    search_query = 'from:ebay@ebay.com subject:\"Da, your order is confirmed\"'\n",
    "    # Call the Gmail API to search for messages\n",
    "    messages = service.users().messages().list(userId='me', q=search_query).execute()\n",
    "    html_list = []\n",
    "\n",
    "\n",
    "\n",
    "    # Check if any messages match the search criteria\n",
    "    file_count = [0]\n",
    "    if 'messages' in messages:\n",
    "        for message in messages['messages']:\n",
    "            # Get the message details\n",
    "            msg_id = message['id']\n",
    "            # print((msg_id))\n",
    "            msg = service.users().messages().get(userId='me', id=msg_id).execute()\n",
    "            print(msg['payload']['headers'][24]['value'])\n",
    "            parse_parts(service, msg['payload']['parts'], 'ReceiptFolder', html_list,file_count)\n",
    "\n",
    "            # Print the snippet (preview) of the message\n",
    "            # print('Message snippet:', msg['snippet'])\n",
    "            # print(msg['payload'].keys())\n",
    "            # parts = msg['payload']['parts']\n",
    "            # print(parts[0].keys())\n",
    "            # print((parts[0]['body']))\n",
    "            # Print the full message (optional)\n",
    "            # print('Full message:', msg)\n",
    "    else:\n",
    "        print('No messages found matching the search criteria.')\n",
    "    print(len(html_list))\n",
    "    print(type(email.message_from_string(html_list[0])))\n",
    "\n"
   ]
  },
  {
   "cell_type": "code",
   "execution_count": 25,
   "id": "0fe39c85",
   "metadata": {},
   "outputs": [
    {
     "name": "stdout",
     "output_type": "stream",
     "text": [
      "Date of the email: 1707870791.0\n",
      "Date of the email: 2024-02-14 00:33:11\n"
     ]
    }
   ],
   "source": [
    "message = service.users().messages().get(userId='me', id='18da50829cbae0aa', format='metadata').execute()\n",
    "\n",
    "# Extract the internal date of the message\n",
    "internal_date = int(message['internalDate']) / 1000  # Convert milliseconds to seconds\n",
    "print(\"Date of the email:\", internal_date)\n",
    "from datetime import datetime\n",
    "\n",
    "# Convert the timestamp to a datetime object\n",
    "email_date = datetime.utcfromtimestamp(internal_date)\n",
    "\n",
    "# Format the datetime object as a string\n",
    "formatted_email_date = email_date.strftime('%Y-%m-%d %H:%M:%S')\n",
    "\n",
    "print(\"Date of the email:\", formatted_email_date)"
   ]
  },
  {
   "cell_type": "code",
   "execution_count": 11,
   "id": "c118a22c",
   "metadata": {},
   "outputs": [
    {
     "name": "stdout",
     "output_type": "stream",
     "text": [
      "\n",
      "Item:  \n",
      "3.5mm Jack To 2 Rca Stereo Audio Cable Adapter 6ft 10...\n",
      "\n",
      "Price:  \n",
      "$5.07\n",
      "\n"
     ]
    }
   ],
   "source": [
    "from bs4 import BeautifulSoup\n",
    "soup = BeautifulSoup(html_list[0], 'html.parser')\n",
    "\n",
    "name_tag = soup.find('a', class_='title')\n",
    "price_tags = soup.find_all('td', class_=\"item\")\n",
    "# print(f'Merchant name: {sender.split(\" \")[0]}')\n",
    "print()\n",
    "print('Item: ', name_tag.string)\n",
    "print('Price: ',price_tags[-1].string)\n",
    "# print('Date: ', msg['Date'])"
   ]
  }
 ],
 "metadata": {
  "kernelspec": {
   "display_name": "Python 3.9.7 ('base')",
   "language": "python",
   "name": "python3"
  },
  "language_info": {
   "codemirror_mode": {
    "name": "ipython",
    "version": 3
   },
   "file_extension": ".py",
   "mimetype": "text/x-python",
   "name": "python",
   "nbconvert_exporter": "python",
   "pygments_lexer": "ipython3",
   "version": "3.9.18"
  },
  "vscode": {
   "interpreter": {
    "hash": "d2b7162d12184ad2d65b0ca95fafc4e9ac2d55419d92e62c3d64ed256c3de9ed"
   }
  }
 },
 "nbformat": 4,
 "nbformat_minor": 5
}
