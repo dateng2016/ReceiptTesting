{
 "cells": [
  {
   "cell_type": "markdown",
   "id": "0dcd4a84",
   "metadata": {},
   "source": [
    "## APP PASSWORD"
   ]
  },
  {
   "cell_type": "code",
   "execution_count": 1,
   "metadata": {},
   "outputs": [],
   "source": [
    "APP_PASSWORD = 'hksx zxjb wztw ncvp'"
   ]
  },
  {
   "cell_type": "markdown",
   "id": "cb48a647",
   "metadata": {},
   "source": [
    "## Ebay"
   ]
  },
  {
   "cell_type": "code",
   "execution_count": 5,
   "id": "4e66a160",
   "metadata": {},
   "outputs": [
    {
     "name": "stdout",
     "output_type": "stream",
     "text": [
      "Sender: eBay <ebay@ebay.com>\n",
      "Subject: Da, your order is confirmed\n"
     ]
    },
    {
     "data": {
      "text/plain": [
       "('BYE', [b'LOGOUT Requested'])"
      ]
     },
     "execution_count": 5,
     "metadata": {},
     "output_type": "execute_result"
    }
   ],
   "source": [
    "import imaplib\n",
    "import email\n",
    "from email.header import decode_header\n",
    "\n",
    "# IMAP server settings for Gmail\n",
    "IMAP_SERVER = 'imap.gmail.com'\n",
    "USERNAME = 'dateng2016@gmail.com'\n",
    "PASSWORD = APP_PASSWORD\n",
    "\n",
    "# Connect to the IMAP server\n",
    "mail = imaplib.IMAP4_SSL(IMAP_SERVER)\n",
    "mail.login(USERNAME, PASSWORD)\n",
    "\n",
    "# Select the mailbox (e.g., 'INBOX')\n",
    "mail.select('INBOX')\n",
    "\n",
    "# Search for emails based on specific criteria (e.g., subject, sender, date)\n",
    "search_criteria = '(SUBJECT \"Da, your order is confirmed\")'\n",
    "result, data = mail.search(None, search_criteria)\n",
    "\n",
    "# Get the email IDs\n",
    "email_ids = data[0].split()\n",
    "\n",
    "# Retrieve the most recent email (assuming the search returns emails sorted by date)\n",
    "latest_email_id = email_ids[-1]\n",
    "\n",
    "# Fetch the email data (headers and body)\n",
    "result, email_data = mail.fetch(latest_email_id, '(RFC822)')\n",
    "raw_email = email_data[0][1]\n",
    "\n",
    "# Parse the raw email data\n",
    "msg = email.message_from_bytes(raw_email)\n",
    "\n",
    "# Extract email information (e.g., sender, subject)\n",
    "sender = msg['From']\n",
    "subject = decode_header(msg['Subject'])[0][0]\n",
    "\n",
    "# Print email information\n",
    "print(\"Sender:\", sender)\n",
    "print(\"Subject:\", subject)\n",
    "\n",
    "# You can access email body and attachments similarly\n",
    "# body = msg.get_payload()\n",
    "\n",
    "# Function to get the email body\n",
    "def get_email_body(msg):\n",
    "    if msg.is_multipart():\n",
    "        # If the message is multipart, iterate over each part\n",
    "        for part in msg.walk():\n",
    "            content_type = part.get_content_type()\n",
    "            if content_type == \"text/plain\" or content_type == \"text/html\":\n",
    "                # If the part is plain text or HTML, return its payload\n",
    "                return part.get_payload(decode=True).decode()\n",
    "    else:\n",
    "        # If the message is not multipart, return its payload\n",
    "        return msg.get_payload(decode=True).decode()\n",
    "\n",
    "# Example usage:\n",
    "email_body = get_email_body(msg)\n",
    "# print(\"Email Body:\", email_body)\n",
    "\n",
    "\n",
    "# Close the connection\n",
    "mail.close()\n",
    "mail.logout()"
   ]
  },
  {
   "cell_type": "code",
   "execution_count": 4,
   "id": "a6b34034",
   "metadata": {},
   "outputs": [
    {
     "name": "stdout",
     "output_type": "stream",
     "text": [
      "Merchant name: eBay\n",
      "\n",
      "Item:  \n",
      "3.5mm Jack To 2 Rca Stereo Audio Cable Adapter 6ft 10...\n",
      "\n",
      "Price:  \n",
      "$5.07\n",
      "\n",
      "Date:  Tue, 13 Feb 2024 17:33:11 -0700\n"
     ]
    }
   ],
   "source": [
    "from bs4 import BeautifulSoup\n",
    "soup = BeautifulSoup(email_body, 'html.parser')\n",
    "\n",
    "name_tag = soup.find('a', class_='title')\n",
    "price_tags = soup.find_all('td', class_=\"item\")\n",
    "print(f'Merchant name: {sender.split(\" \")[0]}')\n",
    "print()\n",
    "print('Item: ', name_tag.string)\n",
    "print('Price: ',price_tags[-1].string)\n",
    "print('Date: ', msg['Date'])"
   ]
  }
 ],
 "metadata": {
  "kernelspec": {
   "display_name": "Python 3.9.7 ('base')",
   "language": "python",
   "name": "python3"
  },
  "language_info": {
   "codemirror_mode": {
    "name": "ipython",
    "version": 3
   },
   "file_extension": ".py",
   "mimetype": "text/x-python",
   "name": "python",
   "nbconvert_exporter": "python",
   "pygments_lexer": "ipython3",
   "version": "3.9.18"
  },
  "vscode": {
   "interpreter": {
    "hash": "d2b7162d12184ad2d65b0ca95fafc4e9ac2d55419d92e62c3d64ed256c3de9ed"
   }
  }
 },
 "nbformat": 4,
 "nbformat_minor": 5
}
